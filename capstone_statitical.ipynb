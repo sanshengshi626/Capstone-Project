{
 "cells": [
  {
   "cell_type": "code",
   "execution_count": 2,
   "metadata": {},
   "outputs": [],
   "source": [
    "import pandas as pd\n",
    "import numpy as np\n",
    "import seaborn as sns\n",
    "import matplotlib.pyplot as plt"
   ]
  },
  {
   "cell_type": "code",
   "execution_count": 3,
   "metadata": {},
   "outputs": [],
   "source": [
    "app_train=pd.read_csv('/Users/renfeigao/.kaggle/competitions/home-credit-default-risk/application_train.csv')\n",
    "bureau_balance=pd.read_csv('/Users/renfeigao/.kaggle/competitions/home-credit-default-risk/bureau_balance.csv')\n",
    "bureau=pd.read_csv('/Users/renfeigao/.kaggle/competitions/home-credit-default-risk/bureau.csv')\n",
    "credit_card_balance=pd.read_csv('/Users/renfeigao/.kaggle/competitions/home-credit-default-risk/credit_card_balance.csv')\n",
    "#HomeCredit_columns_description=pd.read_csv('/Users/renfeigao/.kaggle/competitions/home-credit-default-risk/HomeCredit_columns_description.csv')\n",
    "installments_payments=pd.read_csv('/Users/renfeigao/.kaggle/competitions/home-credit-default-risk/installments_payments.csv')\n",
    "POS_CASH_balance=pd.read_csv('/Users/renfeigao/.kaggle/competitions/home-credit-default-risk/POS_CASH_balance.csv')\n",
    "previous_application=pd.read_csv('/Users/renfeigao/.kaggle/competitions/home-credit-default-risk/previous_application.csv')\n",
    "app_test=pd.read_csv('/Users/renfeigao/.kaggle/competitions/home-credit-default-risk/application_test.csv')"
   ]
  },
  {
   "cell_type": "markdown",
   "metadata": {},
   "source": [
    "### Check some features, and see if they are significant"
   ]
  },
  {
   "cell_type": "markdown",
   "metadata": {},
   "source": [
    "#### Statistical Analysis Checking"
   ]
  },
  {
   "cell_type": "code",
   "execution_count": 6,
   "metadata": {},
   "outputs": [],
   "source": [
    "corr = app_train.corr()"
   ]
  },
  {
   "cell_type": "markdown",
   "metadata": {},
   "source": [
    "**Pick one feature, AMT_REQ_CREDIT_BUREAU_YEAR to check if this feature is important.**\n",
    "Hypothesis: H0:There is no significant relationship between AMT_REQ_CREDIT_BUREAU_YEAR and Target.H1:There is significant relationship betwwen AMT_REQ_CREDIT_BUREAU_YEAR and Target."
   ]
  },
  {
   "cell_type": "code",
   "execution_count": 15,
   "metadata": {},
   "outputs": [
    {
     "data": {
      "text/html": [
       "<div>\n",
       "<style scoped>\n",
       "    .dataframe tbody tr th:only-of-type {\n",
       "        vertical-align: middle;\n",
       "    }\n",
       "\n",
       "    .dataframe tbody tr th {\n",
       "        vertical-align: top;\n",
       "    }\n",
       "\n",
       "    .dataframe thead th {\n",
       "        text-align: right;\n",
       "    }\n",
       "</style>\n",
       "<table border=\"1\" class=\"dataframe\">\n",
       "  <thead>\n",
       "    <tr style=\"text-align: right;\">\n",
       "      <th></th>\n",
       "      <th>TARGET</th>\n",
       "      <th>AMT_REQ_CREDIT_BUREAU_YEAR</th>\n",
       "    </tr>\n",
       "  </thead>\n",
       "  <tbody>\n",
       "    <tr>\n",
       "      <th>TARGET</th>\n",
       "      <td>1.00000</td>\n",
       "      <td>0.01993</td>\n",
       "    </tr>\n",
       "    <tr>\n",
       "      <th>AMT_REQ_CREDIT_BUREAU_YEAR</th>\n",
       "      <td>0.01993</td>\n",
       "      <td>1.00000</td>\n",
       "    </tr>\n",
       "  </tbody>\n",
       "</table>\n",
       "</div>"
      ],
      "text/plain": [
       "                             TARGET  AMT_REQ_CREDIT_BUREAU_YEAR\n",
       "TARGET                      1.00000                     0.01993\n",
       "AMT_REQ_CREDIT_BUREAU_YEAR  0.01993                     1.00000"
      ]
     },
     "execution_count": 15,
     "metadata": {},
     "output_type": "execute_result"
    }
   ],
   "source": [
    "app_train[['TARGET','AMT_REQ_CREDIT_BUREAU_YEAR']].corr()"
   ]
  },
  {
   "cell_type": "code",
   "execution_count": 16,
   "metadata": {},
   "outputs": [
    {
     "data": {
      "text/plain": [
       "(307511, 122)"
      ]
     },
     "execution_count": 16,
     "metadata": {},
     "output_type": "execute_result"
    }
   ],
   "source": [
    "app_train.shape"
   ]
  },
  {
   "cell_type": "code",
   "execution_count": 17,
   "metadata": {},
   "outputs": [
    {
     "name": "stdout",
     "output_type": "stream",
     "text": [
      "2.120801309724195e-28\n"
     ]
    }
   ],
   "source": [
    "t=(0.01993*((307511-2)/(1-(0.01993)**2))**0.5)\n",
    "import scipy.stats as stats\n",
    "p_value1 = stats.t.sf(np.abs(t), (307511-2))*2 \n",
    "print(p_value1)"
   ]
  },
  {
   "cell_type": "markdown",
   "metadata": {},
   "source": [
    "**P value is very low, so the feature is significant.**"
   ]
  },
  {
   "cell_type": "markdown",
   "metadata": {},
   "source": [
    "#### Practical Analysis Checking\n",
    "Compare two groups, target with 1 and 0, see if the AMT_REQ_CREDIT_BUREAU_YEAR are significant difference. In this test, using A/B test to compare these two groups."
   ]
  },
  {
   "cell_type": "code",
   "execution_count": 36,
   "metadata": {},
   "outputs": [
    {
     "name": "stderr",
     "output_type": "stream",
     "text": [
      "/Users/renfeigao/anaconda3/lib/python3.6/site-packages/ipykernel_launcher.py:4: SettingWithCopyWarning: \n",
      "A value is trying to be set on a copy of a slice from a DataFrame.\n",
      "Try using .loc[row_indexer,col_indexer] = value instead\n",
      "\n",
      "See the caveats in the documentation: http://pandas.pydata.org/pandas-docs/stable/indexing.html#indexing-view-versus-copy\n",
      "  after removing the cwd from sys.path.\n"
     ]
    }
   ],
   "source": [
    "group1=pd.concat([app_train[app_train.TARGET==1]]*10)\n",
    "group0=app_train[app_train.TARGET==0]\n",
    "group1['AMT_REQ_CREDIT_BUREAU_YEAR']=group1['AMT_REQ_CREDIT_BUREAU_YEAR'].fillna(0)\n",
    "group0['AMT_REQ_CREDIT_BUREAU_YEAR']=group0['AMT_REQ_CREDIT_BUREAU_YEAR'].fillna(0)"
   ]
  },
  {
   "cell_type": "code",
   "execution_count": 37,
   "metadata": {},
   "outputs": [
    {
     "data": {
      "text/plain": [
       "Ttest_indResult(statistic=7.2641440175890315, pvalue=3.7591888964470287e-13)"
      ]
     },
     "execution_count": 37,
     "metadata": {},
     "output_type": "execute_result"
    }
   ],
   "source": [
    "import scipy.stats as ss\n",
    "ss.ttest_ind(group1['AMT_REQ_CREDIT_BUREAU_YEAR'],group0['AMT_REQ_CREDIT_BUREAU_YEAR'])"
   ]
  },
  {
   "cell_type": "markdown",
   "metadata": {},
   "source": [
    "**There is a significant difference for AMT_REQ_CREDIT_BUREAU_YEAR between the default and non default groups**"
   ]
  },
  {
   "cell_type": "markdown",
   "metadata": {},
   "source": [
    "### Plot to see the difference"
   ]
  },
  {
   "cell_type": "code",
   "execution_count": 44,
   "metadata": {},
   "outputs": [
    {
     "name": "stderr",
     "output_type": "stream",
     "text": [
      "/Users/renfeigao/anaconda3/lib/python3.6/site-packages/scipy/stats/stats.py:1706: FutureWarning: Using a non-tuple sequence for multidimensional indexing is deprecated; use `arr[tuple(seq)]` instead of `arr[seq]`. In the future this will be interpreted as an array index, `arr[np.array(seq)]`, which will result either in an error or a different result.\n",
      "  return np.add.reduce(sorted[indexer] * weights, axis=axis) / sumval\n"
     ]
    },
    {
     "data": {
      "text/plain": [
       "<matplotlib.axes._subplots.AxesSubplot at 0x1ab7358358>"
      ]
     },
     "execution_count": 44,
     "metadata": {},
     "output_type": "execute_result"
    },
    {
     "data": {
      "image/png": "[encoded data removed]",
      "text/plain": [
       "<Figure size 432x288 with 1 Axes>"
      ]
     },
     "metadata": {},
     "output_type": "display_data"
    }
   ],
   "source": [
    "sns.barplot(data=app_train,x='TARGET',y='AMT_REQ_CREDIT_BUREAU_YEAR')"
   ]
  },
  {
   "cell_type": "markdown",
   "metadata": {},
   "source": [
    "**From the chart. There is actually a big difference for AMT_REQ_CREDIT_BUREAU_YEAR between the default and non default groups. So this is a significant feature**"
   ]
  },
  {
   "cell_type": "code",
   "execution_count": null,
   "metadata": {},
   "outputs": [],
   "source": []
  }
 ],
 "metadata": {
  "kernelspec": {
   "display_name": "Python 3",
   "language": "python",
   "name": "python3"
  },
  "language_info": {
   "codemirror_mode": {
    "name": "ipython",
    "version": 3
   },
   "file_extension": ".py",
   "mimetype": "text/x-python",
   "name": "python",
   "nbconvert_exporter": "python",
   "pygments_lexer": "ipython3",
   "version": "3.6.4"
  }
 },
 "nbformat": 4,
 "nbformat_minor": 2
}
